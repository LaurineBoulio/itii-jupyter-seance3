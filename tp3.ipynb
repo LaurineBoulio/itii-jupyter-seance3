{
 "cells": [
  {
   "cell_type": "code",
   "execution_count": null,
   "metadata": {},
   "outputs": [],
   "source": [
    "import numpy as np\n",
    "a = np.array([[1, 2, 3], [4, 5, 6]])\n",
    "print(a[0,1])\n",
    "m = np.arange(3, 15, 2)\n",
    "np.linspace(3, 9, 10)\n",
    "tableau_large = np.random.randint(1, 100, size=1000000)\n",
    "tableau_large = 1.0 / tableau_large"
   ]
  },
  {
   "cell_type": "code",
   "execution_count": null,
   "metadata": {},
   "outputs": [],
   "source": [
    "import numpy as np\n",
    "\n",
    "def verifier(a,b):\n",
    "    print(f(a))\n",
    "    print(f(b))\n",
    "    \n",
    "    c=0.1\n",
    "    while(c<1):\n",
    "        k=f(c)\n",
    "        if(k<= f(b) and k>= f(a)):\n",
    "            print(c)\n",
    "            print(k)\n",
    "            break\n",
    "        else :\n",
    "            c= c+0.1\n",
    "    \n",
    "def f(x):\n",
    "    return pow(x,3) + 2*x -2\n",
    "\n",
    "verifier(0,1)\n",
    "\n",
    "def monotonie():\n",
    "    c=0\n",
    "    l=0\n",
    "    croissant='true'\n",
    "    while(c<1):\n",
    "        if(f(c) < f(l)):\n",
    "            croissant='false'\n",
    "            break\n",
    "        else:\n",
    "            c=c+0.01\n",
    "            l=f(c)\n",
    "    print(croissant)\n",
    "     \n",
    "monotonie()        \n",
    "            "
   ]
  },
  {
   "cell_type": "code",
   "execution_count": null,
   "metadata": {},
   "outputs": [],
   "source": []
  },
  {
   "cell_type": "code",
   "execution_count": null,
   "metadata": {},
   "outputs": [],
   "source": []
  },
  {
   "cell_type": "code",
   "execution_count": null,
   "metadata": {},
   "outputs": [],
   "source": []
  },
  {
   "cell_type": "code",
   "execution_count": null,
   "metadata": {},
   "outputs": [],
   "source": []
  }
 ],
 "metadata": {
  "kernelspec": {
   "display_name": "Python 3",
   "language": "python",
   "name": "python3"
  },
  "language_info": {
   "codemirror_mode": {
    "name": "ipython",
    "version": 3
   },
   "file_extension": ".py",
   "mimetype": "text/x-python",
   "name": "python",
   "nbconvert_exporter": "python",
   "pygments_lexer": "ipython3",
   "version": "3.7.6"
  }
 },
 "nbformat": 4,
 "nbformat_minor": 4
}
